{
 "cells": [
  {
   "cell_type": "code",
   "execution_count": 1,
   "metadata": {},
   "outputs": [],
   "source": [
    "import numpy as np"
   ]
  },
  {
   "cell_type": "markdown",
   "metadata": {},
   "source": [
    "Функция, минимум которой мы ищем:"
   ]
  },
  {
   "cell_type": "code",
   "execution_count": 33,
   "metadata": {},
   "outputs": [],
   "source": [
    "def f(arr):\n",
    "    x = arr[0]\n",
    "    y = arr[1]\n",
    "    return (8 * (x ** 2) + 8 * (x ** 6) + 32 * (x ** 3) * (y ** 2) - 32 * x * (y ** 3) + 8 * (y ** 4) + 8 * (y ** 6))"
   ]
  },
  {
   "cell_type": "markdown",
   "metadata": {},
   "source": [
    "Частная производная по 'x':"
   ]
  },
  {
   "cell_type": "code",
   "execution_count": 34,
   "metadata": {},
   "outputs": [],
   "source": [
    "def fdx(arr):\n",
    "    x = arr[0]\n",
    "    y = arr[1]\n",
    "    return (16 * x + 48 * (x ** 5) + 96 * (x ** 2) * (y ** 2) - 32 * (y ** 3))"
   ]
  },
  {
   "cell_type": "markdown",
   "metadata": {},
   "source": [
    "Частная производная по 'y':"
   ]
  },
  {
   "cell_type": "code",
   "execution_count": 35,
   "metadata": {},
   "outputs": [],
   "source": [
    "def fdy(arr):\n",
    "    x = arr[0]\n",
    "    y = arr[1]\n",
    "    return (64 * (x ** 3) * y - 96 * x * (y ** 2) + 32 * (y ** 3) + 48 * (y ** 5))"
   ]
  },
  {
   "cell_type": "markdown",
   "metadata": {},
   "source": [
    "Классический градиентный спуск с фиксированным шагом:"
   ]
  },
  {
   "cell_type": "code",
   "execution_count": 77,
   "metadata": {},
   "outputs": [],
   "source": [
    "# Кроме начального положения точки, функция принимает значения коэффициента, отвечающего\n",
    "# за длину шага градиентного спуска, и параметр, определяющий критерий остановки\n",
    "def gradient_descent(starting_position, lam, eps):\n",
    "    prev_position = starting_position\n",
    "    prev_value = f(starting_position)\n",
    "    \n",
    "    for i in range(1, 1000000):\n",
    "        grad = np.array([fdx(prev_position), fdy(prev_position)])\n",
    "        \n",
    "        # Имеет смысл нормировать градиент. Это значительно ускоряет сходимость из точек, \n",
    "        # в которых функция принимает очень большие значения\n",
    "        if np.linalg.norm(grad) > 1:\n",
    "            norm_grad = grad / np.linalg.norm(grad)\n",
    "        else:\n",
    "            norm_grad = grad\n",
    "        \n",
    "        # Шаг градиентного спуска\n",
    "        new_position = prev_position - lam * norm_grad\n",
    "        new_value = f(new_position)\n",
    "        \n",
    "        # Проверка критеря остановки\n",
    "        if np.linalg.norm(new_value - prev_value) < eps:\n",
    "            break\n",
    "        else:\n",
    "            prev_position = new_position\n",
    "            prev_value = new_value\n",
    "    \n",
    "    return prev_value"
   ]
  },
  {
   "cell_type": "code",
   "execution_count": 78,
   "metadata": {},
   "outputs": [
    {
     "name": "stdout",
     "output_type": "stream",
     "text": [
      "7.894829554104928e-06\n"
     ]
    }
   ],
   "source": [
    "starting_position = np.array([10, 10])\n",
    "lam = 0.01\n",
    "eps = 0.00000001\n",
    "\n",
    "print(gradient_descent(starting_position, lam, eps))"
   ]
  },
  {
   "cell_type": "markdown",
   "metadata": {},
   "source": [
    "Минимум, найденный градиентным спуском: 7.894829554104928e-06"
   ]
  },
  {
   "cell_type": "markdown",
   "metadata": {},
   "source": [
    "Покоординатный спуск:"
   ]
  },
  {
   "cell_type": "code",
   "execution_count": 130,
   "metadata": {},
   "outputs": [],
   "source": [
    "def coordinate_descent(starting_position, lam, eps):\n",
    "    prev_position = starting_position\n",
    "    prev_value = f(starting_position)\n",
    "    \n",
    "    # Ищем минимум по 'x'\n",
    "    for i in range(1, 10000):\n",
    "        grad = np.array([fdx(prev_position), 0])\n",
    "        \n",
    "        if np.linalg.norm(grad) > 1:\n",
    "            norm_grad = grad / np.linalg.norm(grad)\n",
    "        else:\n",
    "            norm_grad = grad\n",
    "        \n",
    "        new_position = prev_position - lam * norm_grad\n",
    "        new_value = f(new_position)\n",
    "        \n",
    "        if np.linalg.norm(new_value - prev_value) < eps:\n",
    "            break\n",
    "        else:\n",
    "            prev_position = new_position\n",
    "            prev_value = new_value\n",
    "    \n",
    "    # Ищем минимум по 'y'\n",
    "    for i in range(1, 10000):\n",
    "        grad = np.array([0, fdy(prev_position)])\n",
    "        \n",
    "        if np.linalg.norm(grad) > 1:\n",
    "            norm_grad = grad / np.linalg.norm(grad)\n",
    "        else:\n",
    "            norm_grad = grad\n",
    "        \n",
    "        new_position = prev_position - lam * norm_grad\n",
    "        new_value = f(new_position)\n",
    "        \n",
    "        if np.linalg.norm(new_value - prev_value) < eps:\n",
    "            break\n",
    "        else:\n",
    "            prev_position = new_position\n",
    "            prev_value = new_value\n",
    "    \n",
    "    return prev_value"
   ]
  },
  {
   "cell_type": "markdown",
   "metadata": {},
   "source": [
    "Запустим покоординатный спуск от точки (10, 10):"
   ]
  },
  {
   "cell_type": "code",
   "execution_count": 131,
   "metadata": {},
   "outputs": [
    {
     "name": "stdout",
     "output_type": "stream",
     "text": [
      "288.78570755952313\n"
     ]
    }
   ],
   "source": [
    "lam = 0.01\n",
    "eps = 0.00001\n",
    "\n",
    "starting_position = np.array([10, 10])\n",
    "print(coordinate_descent(starting_position, lam, eps))"
   ]
  },
  {
   "cell_type": "markdown",
   "metadata": {},
   "source": [
    "Теперь от точки (10, 1):"
   ]
  },
  {
   "cell_type": "code",
   "execution_count": 132,
   "metadata": {},
   "outputs": [
    {
     "name": "stdout",
     "output_type": "stream",
     "text": [
      "1.3228068549827934\n"
     ]
    }
   ],
   "source": [
    "starting_position = np.array([10, 1])\n",
    "print(coordinate_descent(starting_position, lam, eps))"
   ]
  },
  {
   "cell_type": "markdown",
   "metadata": {},
   "source": [
    "И от точки (10, 0.1):"
   ]
  },
  {
   "cell_type": "code",
   "execution_count": 133,
   "metadata": {},
   "outputs": [
    {
     "name": "stdout",
     "output_type": "stream",
     "text": [
      "0.0008009465522805363\n"
     ]
    }
   ],
   "source": [
    "starting_position = np.array([10, 0.1])\n",
    "print(coordinate_descent(starting_position, lam, eps))"
   ]
  },
  {
   "cell_type": "markdown",
   "metadata": {},
   "source": [
    "Это уже похоже на тот результат, который получился у нас при использовании простого градиентного спуска."
   ]
  },
  {
   "cell_type": "markdown",
   "metadata": {},
   "source": [
    "Из этого можно сделать вывод, что покоординатный спуск очень чувствителен к начальному приближению. Даже в нашем конкретном примере можно легко подобрать это приближение таким образом, чтобы спуск не сошёлся за данное число итераций."
   ]
  }
 ],
 "metadata": {
  "kernelspec": {
   "display_name": "Python 3",
   "language": "python",
   "name": "python3"
  },
  "language_info": {
   "codemirror_mode": {
    "name": "ipython",
    "version": 3
   },
   "file_extension": ".py",
   "mimetype": "text/x-python",
   "name": "python",
   "nbconvert_exporter": "python",
   "pygments_lexer": "ipython3",
   "version": "3.6.4"
  }
 },
 "nbformat": 4,
 "nbformat_minor": 2
}
